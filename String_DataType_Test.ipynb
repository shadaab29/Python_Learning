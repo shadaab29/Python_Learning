{
 "cells": [
  {
   "cell_type": "code",
   "execution_count": 1,
   "id": "de9bac90-6eb6-4a58-87ca-a06c7364e6f4",
   "metadata": {},
   "outputs": [
    {
     "name": "stdout",
     "output_type": "stream",
     "text": [
      "shadaab\n"
     ]
    }
   ],
   "source": [
    "name='shadaab'\n",
    "print(name)"
   ]
  },
  {
   "cell_type": "code",
   "execution_count": 3,
   "id": "a6e264a1-e545-4a8f-8930-51cf1b632c0b",
   "metadata": {},
   "outputs": [
    {
     "name": "stdout",
     "output_type": "stream",
     "text": [
      "shadaab\n"
     ]
    }
   ],
   "source": [
    "name=\"shadaab\"\n",
    "print(name)"
   ]
  },
  {
   "cell_type": "code",
   "execution_count": 4,
   "id": "b37b42b2-f0c5-41f7-a53d-7f79cdae3051",
   "metadata": {},
   "outputs": [
    {
     "name": "stdout",
     "output_type": "stream",
     "text": [
      "Sheikh Shadaab\n"
     ]
    }
   ],
   "source": [
    "var1=\"sheikh shadaab\"\n",
    "print(var1.title())"
   ]
  },
  {
   "cell_type": "code",
   "execution_count": null,
   "id": "920a7169-4dda-4e82-b709-192e51e51f87",
   "metadata": {},
   "outputs": [],
   "source": [
    "print"
   ]
  }
 ],
 "metadata": {
  "kernelspec": {
   "display_name": "Python 3 (ipykernel)",
   "language": "python",
   "name": "python3"
  },
  "language_info": {
   "codemirror_mode": {
    "name": "ipython",
    "version": 3
   },
   "file_extension": ".py",
   "mimetype": "text/x-python",
   "name": "python",
   "nbconvert_exporter": "python",
   "pygments_lexer": "ipython3",
   "version": "3.12.4"
  }
 },
 "nbformat": 4,
 "nbformat_minor": 5
}
